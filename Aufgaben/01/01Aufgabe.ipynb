{
 "cells": [
  {
   "cell_type": "markdown",
   "metadata": {},
   "source": [
    "Aufgabe 1: Schreiben Sie ein Programm, welches die Zahl 2 zurückgibt."
   ]
  },
  {
   "cell_type": "code",
   "execution_count": null,
   "metadata": {},
   "outputs": [],
   "source": [
    "###Aufgabe 1\n",
    "\n",
    "# Ihre Lösung hier\n",
    "print(2)"
   ]
  },
  {
   "cell_type": "markdown",
   "id": "ba7f7420",
   "metadata": {},
   "source": [
    "Das Ergebnis ist korrekt."
   ]
  },
  {
   "cell_type": "markdown",
   "metadata": {},
   "source": [
    "Aufgabe 2: Schreiben Sie ein Programm, welches den String \"Hello World\" ausgibt."
   ]
  },
  {
   "cell_type": "code",
   "execution_count": null,
   "metadata": {},
   "outputs": [],
   "source": [
    "###Aufgabe 2\n",
    "\n",
    "# Ihre Lösung hier\n",
    "print(\"Hello Word\")"
   ]
  },
  {
   "cell_type": "markdown",
   "id": "50438ece",
   "metadata": {},
   "source": [
    "Das Ergebnis ist falsch."
   ]
  }
 ],
 "metadata": {
  "kernelspec": {
   "display_name": "Python 3",
   "language": "python",
   "name": "python3"
  },
  "language_info": {
   "codemirror_mode": {
    "name": "ipython",
    "version": 3
   },
   "file_extension": ".py",
   "mimetype": "text/x-python",
   "name": "python",
   "nbconvert_exporter": "python",
   "pygments_lexer": "ipython3",
   "version": "3.11.5"
  }
 },
 "nbformat": 4,
 "nbformat_minor": 2
}
